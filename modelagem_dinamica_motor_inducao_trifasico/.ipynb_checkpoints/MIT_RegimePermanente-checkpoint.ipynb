{
 "cells": [
  {
   "cell_type": "code",
   "execution_count": 1,
   "metadata": {},
   "outputs": [],
   "source": [
    "import  sympy as sp\n",
    "import  numpy as np"
   ]
  },
  {
   "cell_type": "code",
   "execution_count": 49,
   "metadata": {},
   "outputs": [
    {
     "data": {
      "text/plain": [
       "(376.99111843077515, 180.1179788058148)"
      ]
     },
     "execution_count": 49,
     "metadata": {},
     "output_type": "execute_result"
    }
   ],
   "source": [
    "ws, wr = sp.symbols('omega_s,omega_r', real=True, positive=True) #velocidades angulares eletricas\n",
    "Tm, Te = sp.symbols('T_m,T_e', real=True) #torque mecanico e eletrico\n",
    "p = sym.symbols('p', integer=True, positive=True) #n polos maquina inducao\n",
    "rs, rr, Lls, Llr, Lm = sym.symbols('r_s r_r L_ls L_lr L_m', real=True, positive=True) #resistencias, indutancia dispersao e magnetizacao, estator e rotor\n",
    "iqs, ids = sym.symbols('i_qs,i_ds', real=True) #corrente quadratura e direto estator\n",
    "iqr, idr = sym.symbols('i_qr,i_dr', real=True) #corrente q\n",
    "fqs, fds = sym.symbols('lambda_qs,lambda_ds', real=True)\n",
    "fqr, fdr = sym.symbols('lambda_qr,lambda_dr', real=True)\n",
    "vqs, vds = sym.symbols('v_qs,v_ds', real=True)\n",
    "vqr, vdr = sym.symbols('v_qr,v_dr', real=True)\n",
    "j = sym.I\n",
    "pi = np.pi\n",
    "wmn = 2 * pi * 1720 / 60\n",
    "Vp = np.sqrt(2)*460/np.sqrt(3)\n",
    "we = 2*pi*60\n",
    "we,wmn  "
   ]
  },
  {
   "cell_type": "code",
   "execution_count": null,
   "metadata": {},
   "outputs": [],
   "source": [
    "vqds = sym.Matrix([[vqs],\n",
    "                   [vds]])\n",
    "vqdr = sym.Matrix([[vqr],\n",
    "                   [vdr]])\n",
    "iqds = sym.Matrix([[iqs],\n",
    "                   [ids]])\n",
    "iqdr = sym.Matrix([[iqr],\n",
    "                   [idr]])\n",
    "fqds = sym.Matrix([[fqs],\n",
    "                   [fds]])\n",
    "fqdr = sym.Matrix([[fqr],\n",
    "                   [fdr]])"
   ]
  },
  {
   "cell_type": "code",
   "execution_count": 40,
   "metadata": {},
   "outputs": [],
   "source": [
    "Rs = rs*sym.Identity(2)\n",
    "Rr = rr*sym.Identity(2)\n",
    "\n",
    "mW = sym.Matrix([[ 0, 1],\n",
    "                 [-1, 0]])\n",
    "\n",
    "M = Lm*sym.Identity(2)"
   ]
  },
  {
   "cell_type": "code",
   "execution_count": 47,
   "metadata": {},
   "outputs": [
    {
     "data": {
      "text/latex": [
       "$\\displaystyle \\left[\\begin{matrix}i_{qs} r_{s} + \\lambda_{ds} \\omega_{s} - v_{qs}\\\\i_{ds} r_{s} - \\lambda_{qs} \\omega_{s} - v_{ds}\\\\i_{qr} r_{r} + \\lambda_{dr} \\left(- \\omega_{r} + \\omega_{s}\\right) - v_{qr}\\\\i_{dr} r_{r} + \\lambda_{qr} \\left(\\omega_{r} - \\omega_{s}\\right) - v_{dr}\\\\L_{ls} i_{qs} + L_{m} \\left(i_{qr} + i_{qs}\\right) - \\lambda_{qs}\\\\L_{ls} i_{ds} + L_{m} \\left(i_{dr} + i_{ds}\\right) - \\lambda_{ds}\\\\L_{lr} i_{qr} + L_{m} \\left(i_{qr} + i_{qs}\\right) - \\lambda_{qr}\\\\L_{lr} i_{dr} + L_{m} \\left(i_{dr} + i_{ds}\\right) - \\lambda_{dr}\\\\- T_{e} + \\frac{3 p \\left(- i_{ds} \\lambda_{qs} + i_{qs} \\lambda_{ds}\\right)}{4}\\end{matrix}\\right]$"
      ],
      "text/plain": [
       "Matrix([\n",
       "[             i_qs*r_s + lambda_ds*omega_s - v_qs],\n",
       "[             i_ds*r_s - lambda_qs*omega_s - v_ds],\n",
       "[i_qr*r_r + lambda_dr*(-omega_r + omega_s) - v_qr],\n",
       "[ i_dr*r_r + lambda_qr*(omega_r - omega_s) - v_dr],\n",
       "[       L_ls*i_qs + L_m*(i_qr + i_qs) - lambda_qs],\n",
       "[       L_ls*i_ds + L_m*(i_dr + i_ds) - lambda_ds],\n",
       "[       L_lr*i_qr + L_m*(i_qr + i_qs) - lambda_qr],\n",
       "[       L_lr*i_dr + L_m*(i_dr + i_ds) - lambda_dr],\n",
       "[ -T_e + 3*p*(-i_ds*lambda_qs + i_qs*lambda_ds)/4]])"
      ]
     },
     "execution_count": 47,
     "metadata": {},
     "output_type": "execute_result"
    }
   ],
   "source": [
    "eq_vs = - vqds + Rs*iqds + ws*mW*fqds\n",
    "\n",
    "eq_vr = - vqdr + Rr*iqdr + (ws-wr)*mW*fqdr  \n",
    "\n",
    "eq_fs = - fqds + Lls*iqds + M*(iqds+iqdr)\n",
    "\n",
    "eq_fr = - fqdr + Llr*iqdr + M*(iqds+iqdr)\n",
    "\n",
    "eq_Te = - Te + (p/2)*sym.Rational(3,2)*(iqds.transpose()*mW*fqds)[0] \n",
    "\n",
    "eqs = eqs = sym.Matrix([[eq_vs],\n",
    "                  [eq_vr],\n",
    "                  [eq_fs],\n",
    "                  [eq_fr],\n",
    "                  [eq_Te]])\n",
    "eqs\n"
   ]
  },
  {
   "cell_type": "code",
   "execution_count": 45,
   "metadata": {},
   "outputs": [
    {
     "data": {
      "text/latex": [
       "$\\displaystyle \\left[\\begin{matrix}0.087 i_{qs} + 376.991118430775 \\lambda_{ds} - 375.588427226754\\\\0.087 i_{ds} - 376.991118430775 \\lambda_{qs}\\\\0.228 i_{qr} + 196.87313962496 \\lambda_{dr}\\\\0.228 i_{dr} - 196.87313962496 \\lambda_{qr}\\\\0.0346958 i_{qr} + 0.03549688 i_{qs} - \\lambda_{qs}\\\\0.0346958 i_{dr} + 0.03549688 i_{ds} - \\lambda_{ds}\\\\0.03549688 i_{qr} + 0.0346958 i_{qs} - \\lambda_{qr}\\\\0.03549688 i_{dr} + 0.0346958 i_{ds} - \\lambda_{dr}\\\\- T_{e} - 3 i_{ds} \\lambda_{qs} + 3 i_{qs} \\lambda_{ds}\\end{matrix}\\right]$"
      ],
      "text/plain": [
       "Matrix([\n",
       "[0.087*i_qs + 376.991118430775*lambda_ds - 375.588427226754],\n",
       "[                   0.087*i_ds - 376.991118430775*lambda_qs],\n",
       "[                    0.228*i_qr + 196.87313962496*lambda_dr],\n",
       "[                    0.228*i_dr - 196.87313962496*lambda_qr],\n",
       "[              0.0346958*i_qr + 0.03549688*i_qs - lambda_qs],\n",
       "[              0.0346958*i_dr + 0.03549688*i_ds - lambda_ds],\n",
       "[              0.03549688*i_qr + 0.0346958*i_qs - lambda_qr],\n",
       "[              0.03549688*i_dr + 0.0346958*i_ds - lambda_dr],\n",
       "[                -T_e - 3*i_ds*lambda_qs + 3*i_qs*lambda_ds]])"
      ]
     },
     "execution_count": 45,
     "metadata": {},
     "output_type": "execute_result"
    }
   ],
   "source": [
    "eqs_num = eqs.subs({vqs:Vp,vds:0,vqr:0,vdr:0,p:4,rs:0.087,rr:0.228,Lls:0.00080108,Llr:0.00080108,Lm:0.0346958,ws:we,wr:(p/2)*wmn})\n",
    "eqs_num"
   ]
  },
  {
   "cell_type": "code",
   "execution_count": 43,
   "metadata": {},
   "outputs": [
    {
     "data": {
      "text/plain": [
       "([lambda_ds, lambda_dr, i_dr, lambda_qr, i_qr, T_e, i_qs, i_ds, lambda_qs],\n",
       " Matrix([\n",
       " [0.996279246020809],\n",
       " [0.996279246020809],\n",
       " [                0],\n",
       " [                0],\n",
       " [                0],\n",
       " [                0],\n",
       " [                0],\n",
       " [                0],\n",
       " [                0]]))"
      ]
     },
     "execution_count": 43,
     "metadata": {},
     "output_type": "execute_result"
    }
   ],
   "source": [
    "var = list(eqs_num.free_symbols) #lista de variáveis\n",
    "\n",
    "# chutes iniciais para a solução do método de newton\n",
    "initial = dict()\n",
    "initial[ids] = 0\n",
    "initial[iqs] = 0\n",
    "initial[idr] = 0\n",
    "initial[iqr] = 0\n",
    "initial[fds] = Vp/we #resistencias muito pequenas\n",
    "initial[fqs] = 0\n",
    "initial[fdr] = initial[fds] #dispersões muito pequenas\n",
    "initial[fqr] = initial[fqs]\n",
    "initial[Te] = 0\n",
    "#chutes dos fluxos são os mais importantes\n",
    "\n",
    "x0 = sym.zeros(len(var),1)\n",
    "for k,v in enumerate(var):\n",
    "  x0[k] = initial[v]\n",
    "var, x0"
   ]
  },
  {
   "cell_type": "code",
   "execution_count": 44,
   "metadata": {},
   "outputs": [
    {
     "data": {
      "text/plain": [
       "{lambda_ds: 0.926622549795887,\n",
       " lambda_dr: 0.354812511798388,\n",
       " i_dr: -347.771477318218,\n",
       " lambda_qr: -0.402756297682880,\n",
       " i_qr: -306.373040245469,\n",
       " T_e: 746.316421803583,\n",
       " i_qs: 301.838572598000,\n",
       " i_ds: 366.027441638063,\n",
       " lambda_qs: 0.0844698611337679}"
      ]
     },
     "execution_count": 44,
     "metadata": {},
     "output_type": "execute_result"
    }
   ],
   "source": [
    "sol = sym.nsolve(eqs_num, var, x0, dict=True)[0]\n",
    "sol"
   ]
  }
 ],
 "metadata": {
  "interpreter": {
   "hash": "1baa965d5efe3ac65b79dfc60c0d706280b1da80fedb7760faf2759126c4f253"
  },
  "kernelspec": {
   "display_name": "Python 3 (ipykernel)",
   "language": "python",
   "name": "python3"
  },
  "language_info": {
   "codemirror_mode": {
    "name": "ipython",
    "version": 3
   },
   "file_extension": ".py",
   "mimetype": "text/x-python",
   "name": "python",
   "nbconvert_exporter": "python",
   "pygments_lexer": "ipython3",
   "version": "3.9.7"
  }
 },
 "nbformat": 4,
 "nbformat_minor": 2
}
